{
 "cells": [
  {
   "cell_type": "markdown",
   "metadata": {},
   "source": [
    "Create a Kaggle account\n",
    "Visit Kaggle's website\n",
    "\n",
    "Click on the \"Create an account\" button and follow the instructions to set up your account\n",
    "\n",
    "Download data sets from Kaggle\n",
    "Visit the Titanic website, click on train.csv file and then on the download button on the right. Rename the data set to titanic.csv\n",
    "\n",
    "Visit the House Sale Price competition website, scroll down and click on train.csv.zip and then on the download button on the right. Unzip the content. Rename the data set to houseprice.csv\n",
    "\n",
    "Visit the Santander Customer Satisfaction website, click on train.csv.zip file and then on the download button on the right. Rename the data set to santander.csv\n",
    "\n",
    "Visit the BNP Paribas Cardif Claims Management website, scroll down and click on train.csv.zip and then on the download button on the right. Unzip the content. Rename the data set to paribas.csv"
   ]
  },
  {
   "cell_type": "code",
   "execution_count": null,
   "metadata": {},
   "outputs": [],
   "source": []
  }
 ],
 "metadata": {
  "kernelspec": {
   "display_name": "Python 3",
   "language": "python",
   "name": "python3"
  },
  "language_info": {
   "codemirror_mode": {
    "name": "ipython",
    "version": 3
   },
   "file_extension": ".py",
   "mimetype": "text/x-python",
   "name": "python",
   "nbconvert_exporter": "python",
   "pygments_lexer": "ipython3",
   "version": "3.7.6"
  }
 },
 "nbformat": 4,
 "nbformat_minor": 4
}
